{
 "cells": [
  {
   "cell_type": "code",
   "execution_count": null,
   "id": "37848a17",
   "metadata": {},
   "outputs": [],
   "source": [
    "import glob # return file paths matching specific pattern\n",
    "import tensorflow as tf # faster numerical computations\n",
    "import pandas as pd # analyzing data\n",
    "from sklearn.utils import shuffle # shuffle arrays in consistent way"
   ]
  },
  {
   "cell_type": "code",
   "execution_count": null,
   "id": "b6b9865f",
   "metadata": {},
   "outputs": [],
   "source": [
    "path_fischer = 'C:\\\\Users\\\\dell\\\\Desktop\\\\mi project chess\\\\Data\\\\CSV_FISCHER'\n",
    "files_fischer = glob.glob(path_fischer + \"/*.csv\")\n",
    "      \n",
    "li = []\n",
    "for filename in files_fischer:\n",
    "    df = pd.read_csv(filename, index_col=None, header=0)\n",
    "    li.append(df)\n",
    "train = pd.concat(li, axis=0, ignore_index=True)"
   ]
  },
  {
   "cell_type": "code",
   "execution_count": null,
   "id": "12ec273a",
   "metadata": {},
   "outputs": [],
   "source": [
    "train = shuffle(train)"
   ]
  },
  {
   "cell_type": "code",
   "execution_count": null,
   "id": "832334f2",
   "metadata": {},
   "outputs": [],
   "source": [
    "train.shape"
   ]
  },
  {
   "cell_type": "code",
   "execution_count": null,
   "id": "bf598f63",
   "metadata": {},
   "outputs": [],
   "source": [
    "train.head()"
   ]
  },
  {
   "cell_type": "code",
   "execution_count": null,
   "id": "621ffdf1",
   "metadata": {},
   "outputs": [],
   "source": [
    "features = list(train.iloc[:, 0:192].columns)"
   ]
  },
  {
   "cell_type": "code",
   "execution_count": null,
   "id": "63c63848",
   "metadata": {},
   "outputs": [],
   "source": [
    "X = train[features]\n",
    "y = train['good_move']"
   ]
  },
  {
   "cell_type": "code",
   "execution_count": null,
   "id": "790753f7",
   "metadata": {},
   "outputs": [],
   "source": [
    "categorical_columns = list(X.iloc[:, 0:63].columns)\n",
    "numerical_columns = list(X.iloc[:, 64:192].columns)\n",
    "feature_columns = []\n",
    "for feature_name in categorical_columns:\n",
    "  vocabulary = X[feature_name].unique()\n",
    "  feature_columns.append(tf.feature_column.categorical_column_with_vocabulary_list(feature_name, vocabulary))\n",
    "for feature_name in numerical_columns:\n",
    "  feature_columns.append(tf.feature_column.numeric_column(feature_name,dtype = tf.float32))"
   ]
  },
  {
   "cell_type": "code",
   "execution_count": null,
   "id": "b33c48f9",
   "metadata": {},
   "outputs": [],
   "source": [
    "def make_input_fn(data_df, label_df, num_epochs = 10, shuffle = True, batch_size = 32):\n",
    "  def input_function():\n",
    "    ds = tf.data.Dataset.from_tensor_slices((dict(data_df), label_df))\n",
    "    if shuffle:\n",
    "      ds = ds.shuffle(1000)\n",
    "    ds = ds.batch(batch_size).repeat(num_epochs)\n",
    "    return ds\n",
    "  return input_function"
   ]
  },
  {
   "cell_type": "code",
   "execution_count": null,
   "id": "3b267854",
   "metadata": {},
   "outputs": [],
   "source": [
    "def split_into_batches(df, batch_size=100000):\n",
    "  nb_rows = len(df.index)\n",
    "  intervals = []\n",
    "  for i in range(0, nb_rows + 1, batch_size):\n",
    "    intervals.append(i)\n",
    "  if(intervals[-1] != nb_rows):\n",
    "    intervals.append(nb_rows) \n",
    "  batches_X = []\n",
    "  batches_y = []\n",
    "  for i in range(0, len(intervals) - 1):\n",
    "    batches_X.append(train.iloc[intervals[i]:intervals[i + 1], :][features])\n",
    "    batches_y.append(train.iloc[intervals[i]:intervals[i + 1], :]['good_move'])\n",
    "  return batches_X, batches_y"
   ]
  },
  {
   "cell_type": "code",
   "execution_count": null,
   "id": "d0d330fa",
   "metadata": {},
   "outputs": [],
   "source": [
    "batches_X, batches_y = split_into_batches(train)"
   ]
  },
  {
   "cell_type": "code",
   "execution_count": null,
   "id": "4445ba1a",
   "metadata": {},
   "outputs": [],
   "source": [
    "linear_est = tf.estimator.LinearClassifier(feature_columns = feature_columns, model_dir='C:\\\\Users\\\\dell\\\\Desktop\\\\mi project chess\\\\model')"
   ]
  },
  {
   "cell_type": "code",
   "execution_count": null,
   "id": "52ef4e59",
   "metadata": {},
   "outputs": [],
   "source": [
    "input_functions = []\n",
    "for df_X, df_y in zip(batches_X, batches_y):\n",
    "  input_functions.append(make_input_fn(df_X, df_y))"
   ]
  },
  {
   "cell_type": "code",
   "execution_count": null,
   "id": "b4936505",
   "metadata": {},
   "outputs": [],
   "source": [
    "len(input_functions)"
   ]
  },
  {
   "cell_type": "code",
   "execution_count": null,
   "id": "d2844db1",
   "metadata": {},
   "outputs": [],
   "source": [
    "i = 1\n",
    "for input_function in input_functions:\n",
    "  print('<======================================== NEW BATCH ========================================>')\n",
    "  print('Batch: ' + str(i))\n",
    "  i = i + 1\n",
    "  linear_est.train(input_function)\n",
    "serving_input_fn = tf.estimator.export.build_parsing_serving_input_receiver_fn(\n",
    "  tf.feature_column.make_parse_example_spec(feature_columns))\n",
    "estimator_base_path = 'C:\\\\Users\\\\dell\\\\Desktop\\\\mi project chess\\\\model'\n",
    "estimator_path = linear_est.export_saved_model(estimator_base_path, serving_input_fn)"
   ]
  },
  {
   "cell_type": "code",
   "execution_count": null,
   "id": "61d23ca7",
   "metadata": {},
   "outputs": [],
   "source": []
  }
 ],
 "metadata": {
  "kernelspec": {
   "display_name": "Python 3 (ipykernel)",
   "language": "python",
   "name": "python3"
  },
  "language_info": {
   "codemirror_mode": {
    "name": "ipython",
    "version": 3
   },
   "file_extension": ".py",
   "mimetype": "text/x-python",
   "name": "python",
   "nbconvert_exporter": "python",
   "pygments_lexer": "ipython3",
   "version": "3.9.0"
  }
 },
 "nbformat": 4,
 "nbformat_minor": 5
}
